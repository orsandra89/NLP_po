{
 "cells": [
  {
   "cell_type": "code",
   "id": "initial_id",
   "metadata": {
    "collapsed": true,
    "ExecuteTime": {
     "end_time": "2025-03-30T19:08:58.011462Z",
     "start_time": "2025-03-30T19:08:57.795962Z"
    }
   },
   "source": "import pandas as pd",
   "outputs": [],
   "execution_count": 1
  },
  {
   "metadata": {
    "ExecuteTime": {
     "end_time": "2025-03-30T19:12:42.519233Z",
     "start_time": "2025-03-30T19:12:42.494020Z"
    }
   },
   "cell_type": "code",
   "source": [
    "df = pd.read_csv(\"poetry_analysis_with_authors.csv\")\n",
    "\n",
    "# Extract the unique authors from the 'authors' column\n",
    "unique_authors = df['author'].unique()\n",
    "\n",
    "# Filter authors that start with a capital letter\n",
    "filtered_authors = [author for author in unique_authors if isinstance(author, str) and author[0].isupper()]\n",
    "\n",
    "# Convert the list to a DataFrame for saving\n",
    "filtered_df = pd.DataFrame({'author': filtered_authors})\n",
    "\n",
    "# Save the filtered authors to a new CSV file\n",
    "filtered_df.to_csv(\"filtered_unique_authors.csv\", index=False)\n",
    "\n",
    "print(\"Filtered unique authors saved to filtered_unique_authors.csv\")"
   ],
   "id": "9827f836299da507",
   "outputs": [
    {
     "name": "stdout",
     "output_type": "stream",
     "text": [
      "Filtered unique authors saved to filtered_unique_authors.csv\n"
     ]
    }
   ],
   "execution_count": 7
  },
  {
   "metadata": {},
   "cell_type": "code",
   "outputs": [],
   "execution_count": null,
   "source": "",
   "id": "8e1a41eb2bf24927"
  }
 ],
 "metadata": {
  "kernelspec": {
   "display_name": "Python 3",
   "language": "python",
   "name": "python3"
  },
  "language_info": {
   "codemirror_mode": {
    "name": "ipython",
    "version": 2
   },
   "file_extension": ".py",
   "mimetype": "text/x-python",
   "name": "python",
   "nbconvert_exporter": "python",
   "pygments_lexer": "ipython2",
   "version": "2.7.6"
  }
 },
 "nbformat": 4,
 "nbformat_minor": 5
}
