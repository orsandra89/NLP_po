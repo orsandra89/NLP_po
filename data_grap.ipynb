{
 "cells": [
  {
   "cell_type": "code",
   "id": "initial_id",
   "metadata": {
    "collapsed": true,
    "ExecuteTime": {
     "end_time": "2025-03-10T08:14:57.644327Z",
     "start_time": "2025-03-10T08:14:57.641150Z"
    }
   },
   "source": [
    "import os\n",
    "import requests\n",
    "import re\n",
    "import tarfile\n",
    "import glob\n",
    "import time"
   ],
   "outputs": [],
   "execution_count": 8
  },
  {
   "metadata": {
    "ExecuteTime": {
     "end_time": "2025-03-10T08:15:47.853552Z",
     "start_time": "2025-03-10T08:14:58.595121Z"
    }
   },
   "cell_type": "code",
   "source": [
    "# Downloading tar \n",
    "catalog_url = \"https://www.gutenberg.org/cache/epub/feeds/rdf-files.tar.bz2\"\n",
    "catalog_file = \"gutenberg_catalog.rdf\"\n",
    "\n",
    "response = requests.get(catalog_url)\n",
    "\n",
    "# Save tar for future use\n",
    "with open(\"rdf-files.tar.bz2\", \"wb\") as file:\n",
    "    file.write(response.content)\n",
    "\n",
    "print(\"✅ Catalog downloaded, let's unpack it\")"
   ],
   "id": "1c6f64fa8d3bc0b3",
   "outputs": [
    {
     "name": "stdout",
     "output_type": "stream",
     "text": [
      "✅ Каталог завантажено! Тепер потрібно його розпакувати.\n"
     ]
    }
   ],
   "execution_count": 9
  },
  {
   "metadata": {
    "ExecuteTime": {
     "end_time": "2025-03-10T08:16:23.145779Z",
     "start_time": "2025-03-10T08:15:55.334613Z"
    }
   },
   "cell_type": "code",
   "source": [
    "# Unpacking tar\n",
    "with tarfile.open(\"rdf-files.tar.bz2\", \"r:bz2\") as tar:\n",
    "    tar.extractall(\"rdf_catalog\")\n",
    "\n",
    "print(\"📂 Done\")"
   ],
   "id": "d61de0cee19da92b",
   "outputs": [
    {
     "name": "stdout",
     "output_type": "stream",
     "text": [
      "📂 Каталог розпаковано!\n"
     ]
    }
   ],
   "execution_count": 10
  },
  {
   "metadata": {
    "ExecuteTime": {
     "end_time": "2025-03-10T08:17:47.983179Z",
     "start_time": "2025-03-10T08:17:45.347007Z"
    }
   },
   "cell_type": "code",
   "source": [
    "# Looking for all files in tar\n",
    "rdf_files = glob.glob(\"rdf_catalog/**/*.rdf\", recursive=True)\n",
    "\n",
    "ebook_ids = []\n",
    "\n",
    "for rdf_file in rdf_files:\n",
    "    match = re.search(r\"ebooks/(\\d+)\", rdf_file)\n",
    "    if match:\n",
    "        ebook_ids.append(int(match.group(1)))\n",
    "\n",
    "ebook_ids = list(set(ebook_ids)) \n",
    "ebook_ids.sort()\n",
    "\n",
    "print(f\"📚 Found {len(ebook_ids)} books in the catalog!\")"
   ],
   "id": "73f81b6789eb17d1",
   "outputs": [
    {
     "name": "stdout",
     "output_type": "stream",
     "text": [
      "📚 Знайдено 0 книг у каталозі!\n"
     ]
    }
   ],
   "execution_count": 11
  },
  {
   "metadata": {},
   "cell_type": "code",
   "outputs": [],
   "execution_count": null,
   "source": [
    "# Creating folder for saving books \n",
    "os.makedirs(\"poetry_books\", exist_ok=True)\n",
    "\n",
    "# Download only first 25000 books \n",
    "ebook_ids = ebook_ids[:25000]\n",
    "\n",
    "def download_gutenberg_book(ebook_id):\n",
    "    url = f\"https://www.gutenberg.org/cache/epub/{ebook_id}/pg{ebook_id}.txt\"\n",
    "    \n",
    "    try:\n",
    "        response = requests.get(url, timeout=10)\n",
    "        if response.status_code == 200:\n",
    "            file_path = f\"poetry_books/book_{ebook_id}.txt\"\n",
    "\n",
    "            with open(file_path, \"w\", encoding=\"utf-8\") as file:\n",
    "                file.write(response.text)\n",
    "            \n",
    "            print(f\"✅ Downloaded: {file_path}\")\n",
    "            return True\n",
    "        else:\n",
    "            print(f\"❌ Can't download book with id: {ebook_id}\")\n",
    "            return False\n",
    "    except Exception as e:\n",
    "        print(f\"⚠ Something wrong with downloading {ebook_id}: {e}\")\n",
    "        return False\n",
    "\n",
    "# Downloading all books from list\n",
    "count = 0\n",
    "for ebook_id in ebook_ids:\n",
    "    if download_gutenberg_book(ebook_id):\n",
    "        count += 1\n",
    "        if count >= 25000:  \n",
    "            break\n",
    "    time.sleep(1)  \n",
    "\n",
    "print(f\"🎉 Downloaded {count} books!\")"
   ],
   "id": "aaccd982c13ef65f"
  },
  {
   "metadata": {
    "ExecuteTime": {
     "end_time": "2025-03-10T08:08:28.697838Z",
     "start_time": "2025-03-10T08:08:22.926042Z"
    }
   },
   "cell_type": "code",
   "source": "",
   "id": "b38460d050ba7772",
   "outputs": [
    {
     "name": "stdout",
     "output_type": "stream",
     "text": [
      "✅ Завантажено: poetry_books/book_12242.txt\n",
      "✅ Завантажено: poetry_books/book_1041.txt\n",
      "✅ Завантажено: poetry_books/book_16328.txt\n",
      "✅ Завантажено: poetry_books/book_22681.txt\n",
      "✅ Завантажено: poetry_books/book_15553.txt\n",
      "📚 Всі книги завантажено!\n"
     ]
    }
   ],
   "execution_count": 2
  },
  {
   "metadata": {
    "ExecuteTime": {
     "end_time": "2025-03-10T08:09:55.249097Z",
     "start_time": "2025-03-10T08:09:55.216798Z"
    }
   },
   "cell_type": "code",
   "source": [
    "def clean_text(text):\n",
    "    \"\"\" Deleting meta data in book\"\"\"\n",
    "    parts = text.split(\"*** START OF THE PROJECT GUTENBERG EBOOK\")\n",
    "    if len(parts) > 1:\n",
    "        text = parts[1]\n",
    "    text = text.split(\"*** END OF THE PROJECT GUTENBERG EBOOK\")[0]\n",
    "    text = re.sub(r'\\n+', '\\n', text)  \n",
    "    text = re.sub(r'[^\\w\\s.,!?;:\\'-]', '', text)  \n",
    "    return text.strip()\n",
    "\n",
    "# Clearing all downloaded books \n",
    "for ebook_id in ebook_ids[:25000]:\n",
    "    file_path = f\"poetry_books/book_{ebook_id}.txt\"\n",
    "\n",
    "    try:\n",
    "        with open(file_path, \"r\", encoding=\"utf-8\") as file:\n",
    "            raw_text = file.read()\n",
    "\n",
    "        cleaned_text = clean_text(raw_text)\n",
    "\n",
    "        with open(file_path, \"w\", encoding=\"utf-8\") as file:\n",
    "            file.write(cleaned_text)\n",
    "\n",
    "        print(f\"🧹 Clear: {file_path}\")\n",
    "\n",
    "    except FileNotFoundError:\n",
    "        print(f\"⚠ File don't found : {file_path}\")\n",
    "\n",
    "print(\"✅ All books clear!\")"
   ],
   "id": "11b127221c728b9a",
   "outputs": [
    {
     "name": "stdout",
     "output_type": "stream",
     "text": [
      "🧹 Очищено: poetry_books/book_12242.txt\n",
      "🧹 Очищено: poetry_books/book_1041.txt\n",
      "🧹 Очищено: poetry_books/book_16328.txt\n",
      "🧹 Очищено: poetry_books/book_22681.txt\n",
      "🧹 Очищено: poetry_books/book_15553.txt\n",
      "✅ Усі книги очищено!\n"
     ]
    }
   ],
   "execution_count": 5
  },
  {
   "metadata": {},
   "cell_type": "code",
   "outputs": [],
   "execution_count": null,
   "source": "",
   "id": "aee9dfed7b5e3739"
  }
 ],
 "metadata": {
  "kernelspec": {
   "display_name": "Python 3",
   "language": "python",
   "name": "python3"
  },
  "language_info": {
   "codemirror_mode": {
    "name": "ipython",
    "version": 2
   },
   "file_extension": ".py",
   "mimetype": "text/x-python",
   "name": "python",
   "nbconvert_exporter": "python",
   "pygments_lexer": "ipython2",
   "version": "2.7.6"
  }
 },
 "nbformat": 4,
 "nbformat_minor": 5
}
